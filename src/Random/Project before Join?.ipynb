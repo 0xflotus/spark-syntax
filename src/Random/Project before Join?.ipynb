{
 "cells": [
  {
   "cell_type": "markdown",
   "metadata": {},
   "source": [
    "### Library Imports"
   ]
  },
  {
   "cell_type": "code",
   "execution_count": 5,
   "metadata": {},
   "outputs": [],
   "source": [
    "from pyspark.sql import SparkSession\n",
    "from pyspark.sql import functions as F\n",
    "from decimal import Decimal"
   ]
  },
  {
   "cell_type": "markdown",
   "metadata": {},
   "source": [
    "Create a `SparkSession`. No need to create `SparkContext` as you automatically get it as part of the `SparkSession`."
   ]
  },
  {
   "cell_type": "code",
   "execution_count": 3,
   "metadata": {},
   "outputs": [],
   "source": [
    "spark = SparkSession.builder \\\n",
    "    .master(\"local\") \\\n",
    "    .appName(\"Exploring Joins\") \\\n",
    "    .config(\"spark.some.config.option\", \"some-value\") \\\n",
    "    .getOrCreate()\n",
    "\n",
    "sc = spark.sparkContext"
   ]
  },
  {
   "cell_type": "code",
   "execution_count": 9,
   "metadata": {},
   "outputs": [
    {
     "data": {
      "text/html": [
       "<div>\n",
       "<style scoped>\n",
       "    .dataframe tbody tr th:only-of-type {\n",
       "        vertical-align: middle;\n",
       "    }\n",
       "\n",
       "    .dataframe tbody tr th {\n",
       "        vertical-align: top;\n",
       "    }\n",
       "\n",
       "    .dataframe thead th {\n",
       "        text-align: right;\n",
       "    }\n",
       "</style>\n",
       "<table border=\"1\" class=\"dataframe\">\n",
       "  <thead>\n",
       "    <tr style=\"text-align: right;\">\n",
       "      <th></th>\n",
       "      <th>id</th>\n",
       "      <th>shop_id</th>\n",
       "      <th>order_id</th>\n",
       "      <th>type</th>\n",
       "      <th>amount</th>\n",
       "    </tr>\n",
       "  </thead>\n",
       "  <tbody>\n",
       "    <tr>\n",
       "      <th>0</th>\n",
       "      <td>1</td>\n",
       "      <td>1</td>\n",
       "      <td>1.0</td>\n",
       "      <td>order</td>\n",
       "      <td>1.000000000000000000</td>\n",
       "    </tr>\n",
       "    <tr>\n",
       "      <th>1</th>\n",
       "      <td>2</td>\n",
       "      <td>1</td>\n",
       "      <td>2.0</td>\n",
       "      <td>refund</td>\n",
       "      <td>1.000000000000000000</td>\n",
       "    </tr>\n",
       "    <tr>\n",
       "      <th>2</th>\n",
       "      <td>3</td>\n",
       "      <td>2</td>\n",
       "      <td>NaN</td>\n",
       "      <td>shipping</td>\n",
       "      <td>1.000000000000000000</td>\n",
       "    </tr>\n",
       "  </tbody>\n",
       "</table>\n",
       "</div>"
      ],
      "text/plain": [
       "   id  shop_id  order_id      type                amount\n",
       "0   1        1       1.0     order  1.000000000000000000\n",
       "1   2        1       2.0    refund  1.000000000000000000\n",
       "2   3        2       NaN  shipping  1.000000000000000000"
      ]
     },
     "execution_count": 9,
     "metadata": {},
     "output_type": "execute_result"
    }
   ],
   "source": [
    "sales_df = spark.createDataFrame(\n",
    "    [\n",
    "        (1, 1, 1, \"order\", Decimal('1')),\n",
    "        (2, 1, 2, \"refund\", Decimal('1')),\n",
    "        (3, 2, None, \"shipping\", Decimal('1')),\n",
    "    ], ['id', 'shop_id', \"order_id\", \"type\", \"amount\"]\n",
    ")\n",
    "\n",
    "sales_df.toPandas()"
   ]
  },
  {
   "cell_type": "code",
   "execution_count": 10,
   "metadata": {},
   "outputs": [
    {
     "data": {
      "text/html": [
       "<div>\n",
       "<style scoped>\n",
       "    .dataframe tbody tr th:only-of-type {\n",
       "        vertical-align: middle;\n",
       "    }\n",
       "\n",
       "    .dataframe tbody tr th {\n",
       "        vertical-align: top;\n",
       "    }\n",
       "\n",
       "    .dataframe thead th {\n",
       "        text-align: right;\n",
       "    }\n",
       "</style>\n",
       "<table border=\"1\" class=\"dataframe\">\n",
       "  <thead>\n",
       "    <tr style=\"text-align: right;\">\n",
       "      <th></th>\n",
       "      <th>order_id</th>\n",
       "      <th>shop_id</th>\n",
       "      <th>price</th>\n",
       "      <th>tax</th>\n",
       "    </tr>\n",
       "  </thead>\n",
       "  <tbody>\n",
       "    <tr>\n",
       "      <th>0</th>\n",
       "      <td>1</td>\n",
       "      <td>1</td>\n",
       "      <td>1.000000000000000000</td>\n",
       "      <td>1.130000000000000000</td>\n",
       "    </tr>\n",
       "    <tr>\n",
       "      <th>1</th>\n",
       "      <td>2</td>\n",
       "      <td>1</td>\n",
       "      <td>2.000000000000000000</td>\n",
       "      <td>1.130000000000000000</td>\n",
       "    </tr>\n",
       "    <tr>\n",
       "      <th>2</th>\n",
       "      <td>3</td>\n",
       "      <td>2</td>\n",
       "      <td>3.000000000000000000</td>\n",
       "      <td>1.130000000000000000</td>\n",
       "    </tr>\n",
       "  </tbody>\n",
       "</table>\n",
       "</div>"
      ],
      "text/plain": [
       "   order_id  shop_id                 price                   tax\n",
       "0         1        1  1.000000000000000000  1.130000000000000000\n",
       "1         2        1  2.000000000000000000  1.130000000000000000\n",
       "2         3        2  3.000000000000000000  1.130000000000000000"
      ]
     },
     "execution_count": 10,
     "metadata": {},
     "output_type": "execute_result"
    }
   ],
   "source": [
    "orders_df = spark.createDataFrame(\n",
    "    [\n",
    "        (1, 1, Decimal(\"1.00\"), Decimal(\"1.13\")), \n",
    "        (2, 1, Decimal(\"2.00\"), Decimal(\"1.13\")), \n",
    "        (3, 2, Decimal(\"3.00\"), Decimal(\"1.13\")), \n",
    "    ], ['order_id', 'shop_id', \"price\", \"tax\"]\n",
    ")\n",
    "\n",
    "orders_df.toPandas()"
   ]
  },
  {
   "cell_type": "code",
   "execution_count": 12,
   "metadata": {},
   "outputs": [
    {
     "name": "stdout",
     "output_type": "stream",
     "text": [
      "== Physical Plan ==\n",
      "*(5) Project [order_id#26L, CheckOverflow((promote_precision(amount#28) * promote_precision(tax#37)), DecimalType(38,6)) AS total_price#68, amount#28, tax#37]\n",
      "+- *(5) SortMergeJoin [order_id#26L], [order_id#34L], Inner\n",
      "   :- *(2) Sort [order_id#26L ASC NULLS FIRST], false, 0\n",
      "   :  +- Exchange hashpartitioning(order_id#26L, 200)\n",
      "   :     +- *(1) Project [order_id#26L, amount#28]\n",
      "   :        +- *(1) Filter isnotnull(order_id#26L)\n",
      "   :           +- Scan ExistingRDD[id#24L,shop_id#25L,order_id#26L,type#27,amount#28]\n",
      "   +- *(4) Sort [order_id#34L ASC NULLS FIRST], false, 0\n",
      "      +- Exchange hashpartitioning(order_id#34L, 200)\n",
      "         +- *(3) Project [order_id#34L, tax#37]\n",
      "            +- *(3) Filter isnotnull(order_id#34L)\n",
      "               +- Scan ExistingRDD[order_id#34L,shop_id#35L,price#36,tax#37]\n"
     ]
    }
   ],
   "source": [
    "sales_df \\\n",
    "    .join(orders_df, 'order_id') \\\n",
    "    .withColumn('total_price', F.col(\"amount\") * F.col(\"tax\")) \\\n",
    "    .select('order_id', 'total_price', 'amount', 'tax') \\\n",
    "    .explain()"
   ]
  }
 ],
 "metadata": {
  "kernelspec": {
   "display_name": "Python 2",
   "language": "python",
   "name": "python2"
  },
  "language_info": {
   "codemirror_mode": {
    "name": "ipython",
    "version": 2
   },
   "file_extension": ".py",
   "mimetype": "text/x-python",
   "name": "python",
   "nbconvert_exporter": "python",
   "pygments_lexer": "ipython2",
   "version": "2.7.15"
  }
 },
 "nbformat": 4,
 "nbformat_minor": 2
}
