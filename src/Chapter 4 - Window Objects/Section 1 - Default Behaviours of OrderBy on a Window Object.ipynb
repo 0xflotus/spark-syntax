{
 "cells": [
  {
   "cell_type": "markdown",
   "metadata": {},
   "source": [
    "## Additional Imports"
   ]
  },
  {
   "cell_type": "code",
   "execution_count": 1,
   "metadata": {},
   "outputs": [],
   "source": [
    "from pyspark.sql.window import Window\n",
    "from pyspark.sql import functions as F\n",
    "from starscream.utils.time_utils import parse"
   ]
  },
  {
   "cell_type": "markdown",
   "metadata": {},
   "source": [
    "## Initial Dataset"
   ]
  },
  {
   "cell_type": "code",
   "execution_count": 2,
   "metadata": {},
   "outputs": [
    {
     "name": "stdout",
     "output_type": "stream",
     "text": [
      "\u001b[01m2018-11-16 18:24:02.926 \u001b[32mINFO \u001b[0m\u001b[01mstarscream.PySparkHelpers Setting spark.driver.host = 10.128.0.10\u001b[0m\n",
      "\u001b[01m2018-11-16 18:24:02.928 \u001b[32mINFO \u001b[0m\u001b[01mstarscream.PySparkHelpers Exporting spark.driver.memory as SPARK_DRIVER_MEMORY = 4g\u001b[0m\n",
      "\u001b[01m2018-11-16 18:24:33.487 \u001b[32mINFO \u001b[0m\u001b[01mstarscream.PySparkHelpers Spark Options: spark.default.parallelism=1024,spark.driver.extraJavaOptions=-XX:+UseCompressedOops -XX:+PrintGCDetails -XX:+PrintGCTimeStamps -Duser.timezone=GMT -Dlog4j.configuration=file:///app/config/spark.log4j.properties,spark.driver.host=10.128.0.10,spark.driver.maxResultSize=3686m,spark.driver.memory=4g,spark.dynamicAllocation.enabled=True,spark.dynamicAllocation.executorIdleTimeout=10m,spark.dynamicAllocation.maxExecutors=8,spark.eventLog.dir=gs://starscream-adhoc/var/spark/event-logs,spark.eventLog.enabled=True,spark.executor.cores=8,spark.executor.extraJavaOptions=-XX:+UseCompressedOops -XX:+PrintGCDetails -XX:+PrintGCTimeStamps -Duser.timezone=GMT -Dlog4j.configuration=spark.log4j.properties,spark.executor.memory=12g,spark.executorEnv.DATACENTER=gcp,spark.executorEnv.OOZIE_EXEC_ID=no_oozie_exec_id,spark.executorEnv.PATH=/u/virtualenvs/starscream_2_7_13//bin:/usr/local/bin:/usr/local/sbin:/bin:/sbin:/usr/bin:/usr/sbin:/usr/X11 ... dhoc,spark.hadoop.mapreduce.fileoutputcommitter.algorithm.version=2,spark.metrics.conf=spark.metrics.properties,spark.python.worker.memory=1g,spark.python.worker.reuse=False,spark.shuffle.service.enabled=True,spark.shuffle.spill=True,spark.speculation=True,spark.speculation.interval=1m,spark.speculation.multiplier=10,spark.speculation.quantile=0.95,spark.sql.broadcastTimeout=600,spark.sql.caseSensitive=True,spark.sql.warehouse.dir=gs://starscream-adhoc/spark-warehouse,spark.streaming.backpressure.enabled=True,spark.streaming.kafka.maxRatePerPartition=10000,spark.streaming.receiver.writeAheadLog.enable=False,spark.ui.port=0,spark.ui.showConsoleProgress=False,spark.yarn.archive=gs://starscream-adhoc/user/sparkles/spark-assembly-68668c1e4d30a389df7cef8d2e0ce1d9d8e359f0-hadoop2.7.tar.gz,spark.yarn.executor.memoryOverhead=8192,spark.yarn.historyServer.address=shs-adhoc.starscream-adhoc.yarn.shopifykloud.com,spark.yarn.max.executor.failures=3,spark.yarn.maxAppAttempts=1,spark.yarn.queue=adhoc.remote_development\u001b[0m\n"
     ]
    },
    {
     "data": {
      "text/html": [
       "<div>\n",
       "<style scoped>\n",
       "    .dataframe tbody tr th:only-of-type {\n",
       "        vertical-align: middle;\n",
       "    }\n",
       "\n",
       "    .dataframe tbody tr th {\n",
       "        vertical-align: top;\n",
       "    }\n",
       "\n",
       "    .dataframe thead th {\n",
       "        text-align: right;\n",
       "    }\n",
       "</style>\n",
       "<table border=\"1\" class=\"dataframe\">\n",
       "  <thead>\n",
       "    <tr style=\"text-align: right;\">\n",
       "      <th></th>\n",
       "      <th>viewed_at</th>\n",
       "      <th>url</th>\n",
       "      <th>session_token</th>\n",
       "      <th>is_foo</th>\n",
       "    </tr>\n",
       "  </thead>\n",
       "  <tbody>\n",
       "    <tr>\n",
       "      <th>0</th>\n",
       "      <td>2017-01-11 01:21:00</td>\n",
       "      <td>http://www.anotherstore.com/page1</td>\n",
       "      <td>123abc</td>\n",
       "      <td>0</td>\n",
       "    </tr>\n",
       "    <tr>\n",
       "      <th>1</th>\n",
       "      <td>2017-01-11 01:25:00</td>\n",
       "      <td>http://www.anotherstore.com/page2</td>\n",
       "      <td>123abc</td>\n",
       "      <td>1</td>\n",
       "    </tr>\n",
       "    <tr>\n",
       "      <th>2</th>\n",
       "      <td>2017-01-11 01:36:00</td>\n",
       "      <td>http://www.anotherstore.com/checkout</td>\n",
       "      <td>123abc</td>\n",
       "      <td>2</td>\n",
       "    </tr>\n",
       "  </tbody>\n",
       "</table>\n",
       "</div>"
      ],
      "text/plain": [
       "            viewed_at                                   url session_token  \\\n",
       "0 2017-01-11 01:21:00     http://www.anotherstore.com/page1        123abc   \n",
       "1 2017-01-11 01:25:00     http://www.anotherstore.com/page2        123abc   \n",
       "2 2017-01-11 01:36:00  http://www.anotherstore.com/checkout        123abc   \n",
       "\n",
       "   is_foo  \n",
       "0       0  \n",
       "1       1  \n",
       "2       2  "
      ]
     },
     "execution_count": 2,
     "metadata": {},
     "output_type": "execute_result"
    }
   ],
   "source": [
    "df = sc.sql.createDataFrame(\n",
    "    [\n",
    "        (datetime(2017, 1, 11, 1, 21), 'http://www.anotherstore.com/page1', '123abc', 0), \n",
    "        (datetime(2017, 1, 11, 1, 25), 'http://www.anotherstore.com/page2', '123abc', 1), \n",
    "        (datetime(2017, 1, 11, 1, 36), 'http://www.anotherstore.com/checkout', '123abc', 2), \n",
    "    ], ['viewed_at', 'url', 'session_token', 'is_foo']\n",
    ")\n",
    "\n",
    "df.toPandas()"
   ]
  },
  {
   "cell_type": "markdown",
   "metadata": {},
   "source": [
    "## Window Functions"
   ]
  },
  {
   "cell_type": "markdown",
   "metadata": {},
   "source": [
    "### Scenario #1\n",
    "\n",
    "No `orderBy` specified for `window` object."
   ]
  },
  {
   "cell_type": "code",
   "execution_count": 3,
   "metadata": {},
   "outputs": [
    {
     "data": {
      "text/html": [
       "<div>\n",
       "<style scoped>\n",
       "    .dataframe tbody tr th:only-of-type {\n",
       "        vertical-align: middle;\n",
       "    }\n",
       "\n",
       "    .dataframe tbody tr th {\n",
       "        vertical-align: top;\n",
       "    }\n",
       "\n",
       "    .dataframe thead th {\n",
       "        text-align: right;\n",
       "    }\n",
       "</style>\n",
       "<table border=\"1\" class=\"dataframe\">\n",
       "  <thead>\n",
       "    <tr style=\"text-align: right;\">\n",
       "      <th></th>\n",
       "      <th>viewed_at</th>\n",
       "      <th>url</th>\n",
       "      <th>session_token</th>\n",
       "      <th>is_foo</th>\n",
       "      <th>is_atleast_one_foo</th>\n",
       "    </tr>\n",
       "  </thead>\n",
       "  <tbody>\n",
       "    <tr>\n",
       "      <th>0</th>\n",
       "      <td>2017-01-11 01:36:00</td>\n",
       "      <td>http://www.anotherstore.com/checkout</td>\n",
       "      <td>123abc</td>\n",
       "      <td>2</td>\n",
       "      <td>3</td>\n",
       "    </tr>\n",
       "    <tr>\n",
       "      <th>1</th>\n",
       "      <td>2017-01-11 01:25:00</td>\n",
       "      <td>http://www.anotherstore.com/page2</td>\n",
       "      <td>123abc</td>\n",
       "      <td>1</td>\n",
       "      <td>3</td>\n",
       "    </tr>\n",
       "    <tr>\n",
       "      <th>2</th>\n",
       "      <td>2017-01-11 01:21:00</td>\n",
       "      <td>http://www.anotherstore.com/page1</td>\n",
       "      <td>123abc</td>\n",
       "      <td>0</td>\n",
       "      <td>3</td>\n",
       "    </tr>\n",
       "  </tbody>\n",
       "</table>\n",
       "</div>"
      ],
      "text/plain": [
       "            viewed_at                                   url session_token  \\\n",
       "0 2017-01-11 01:36:00  http://www.anotherstore.com/checkout        123abc   \n",
       "1 2017-01-11 01:25:00     http://www.anotherstore.com/page2        123abc   \n",
       "2 2017-01-11 01:21:00     http://www.anotherstore.com/page1        123abc   \n",
       "\n",
       "   is_foo  is_atleast_one_foo  \n",
       "0       2                   3  \n",
       "1       1                   3  \n",
       "2       0                   3  "
      ]
     },
     "execution_count": 3,
     "metadata": {},
     "output_type": "execute_result"
    }
   ],
   "source": [
    "window_1 = Window\\\n",
    "    .partitionBy('session_token')\n",
    "\n",
    "df_1 = df.withColumn('is_atleast_one_foo', (F.sum(F.col('is_foo')).over(window_1)))\n",
    "\n",
    "df_1.toPandas()"
   ]
  },
  {
   "cell_type": "markdown",
   "metadata": {},
   "source": [
    "### Scenario #2\n",
    "\n",
    "`orderBy` with no `rowsBetween` specified for `window` object."
   ]
  },
  {
   "cell_type": "code",
   "execution_count": 4,
   "metadata": {},
   "outputs": [
    {
     "data": {
      "text/html": [
       "<div>\n",
       "<style scoped>\n",
       "    .dataframe tbody tr th:only-of-type {\n",
       "        vertical-align: middle;\n",
       "    }\n",
       "\n",
       "    .dataframe tbody tr th {\n",
       "        vertical-align: top;\n",
       "    }\n",
       "\n",
       "    .dataframe thead th {\n",
       "        text-align: right;\n",
       "    }\n",
       "</style>\n",
       "<table border=\"1\" class=\"dataframe\">\n",
       "  <thead>\n",
       "    <tr style=\"text-align: right;\">\n",
       "      <th></th>\n",
       "      <th>viewed_at</th>\n",
       "      <th>url</th>\n",
       "      <th>session_token</th>\n",
       "      <th>is_foo</th>\n",
       "      <th>is_atleast_one_foo</th>\n",
       "    </tr>\n",
       "  </thead>\n",
       "  <tbody>\n",
       "    <tr>\n",
       "      <th>0</th>\n",
       "      <td>2017-01-11 01:21:00</td>\n",
       "      <td>http://www.anotherstore.com/page1</td>\n",
       "      <td>123abc</td>\n",
       "      <td>0</td>\n",
       "      <td>0</td>\n",
       "    </tr>\n",
       "    <tr>\n",
       "      <th>1</th>\n",
       "      <td>2017-01-11 01:25:00</td>\n",
       "      <td>http://www.anotherstore.com/page2</td>\n",
       "      <td>123abc</td>\n",
       "      <td>1</td>\n",
       "      <td>1</td>\n",
       "    </tr>\n",
       "    <tr>\n",
       "      <th>2</th>\n",
       "      <td>2017-01-11 01:36:00</td>\n",
       "      <td>http://www.anotherstore.com/checkout</td>\n",
       "      <td>123abc</td>\n",
       "      <td>2</td>\n",
       "      <td>3</td>\n",
       "    </tr>\n",
       "  </tbody>\n",
       "</table>\n",
       "</div>"
      ],
      "text/plain": [
       "            viewed_at                                   url session_token  \\\n",
       "0 2017-01-11 01:21:00     http://www.anotherstore.com/page1        123abc   \n",
       "1 2017-01-11 01:25:00     http://www.anotherstore.com/page2        123abc   \n",
       "2 2017-01-11 01:36:00  http://www.anotherstore.com/checkout        123abc   \n",
       "\n",
       "   is_foo  is_atleast_one_foo  \n",
       "0       0                   0  \n",
       "1       1                   1  \n",
       "2       2                   3  "
      ]
     },
     "execution_count": 4,
     "metadata": {},
     "output_type": "execute_result"
    }
   ],
   "source": [
    "window_2 = Window\\\n",
    "    .partitionBy('session_token')\\\n",
    "    .orderBy(F.col('viewed_at'))\n",
    "\n",
    "df_2 = df.withColumn('is_atleast_one_foo', (F.sum(F.col('is_foo')).over(window_2)))\n",
    "\n",
    "df_2.toPandas()"
   ]
  },
  {
   "cell_type": "markdown",
   "metadata": {},
   "source": [
    "### Scenario #3\n",
    "\n",
    "`orderBy` with a `rowsBetween(Window.unboundedPreceding, Window.unboundedFollowing)` specified for `window` object."
   ]
  },
  {
   "cell_type": "code",
   "execution_count": 5,
   "metadata": {},
   "outputs": [
    {
     "data": {
      "text/html": [
       "<div>\n",
       "<style scoped>\n",
       "    .dataframe tbody tr th:only-of-type {\n",
       "        vertical-align: middle;\n",
       "    }\n",
       "\n",
       "    .dataframe tbody tr th {\n",
       "        vertical-align: top;\n",
       "    }\n",
       "\n",
       "    .dataframe thead th {\n",
       "        text-align: right;\n",
       "    }\n",
       "</style>\n",
       "<table border=\"1\" class=\"dataframe\">\n",
       "  <thead>\n",
       "    <tr style=\"text-align: right;\">\n",
       "      <th></th>\n",
       "      <th>viewed_at</th>\n",
       "      <th>url</th>\n",
       "      <th>session_token</th>\n",
       "      <th>is_foo</th>\n",
       "      <th>is_atleast_one_foo</th>\n",
       "    </tr>\n",
       "  </thead>\n",
       "  <tbody>\n",
       "    <tr>\n",
       "      <th>0</th>\n",
       "      <td>2017-01-11 01:21:00</td>\n",
       "      <td>http://www.anotherstore.com/page1</td>\n",
       "      <td>123abc</td>\n",
       "      <td>0</td>\n",
       "      <td>3</td>\n",
       "    </tr>\n",
       "    <tr>\n",
       "      <th>1</th>\n",
       "      <td>2017-01-11 01:25:00</td>\n",
       "      <td>http://www.anotherstore.com/page2</td>\n",
       "      <td>123abc</td>\n",
       "      <td>1</td>\n",
       "      <td>3</td>\n",
       "    </tr>\n",
       "    <tr>\n",
       "      <th>2</th>\n",
       "      <td>2017-01-11 01:36:00</td>\n",
       "      <td>http://www.anotherstore.com/checkout</td>\n",
       "      <td>123abc</td>\n",
       "      <td>2</td>\n",
       "      <td>3</td>\n",
       "    </tr>\n",
       "  </tbody>\n",
       "</table>\n",
       "</div>"
      ],
      "text/plain": [
       "            viewed_at                                   url session_token  \\\n",
       "0 2017-01-11 01:21:00     http://www.anotherstore.com/page1        123abc   \n",
       "1 2017-01-11 01:25:00     http://www.anotherstore.com/page2        123abc   \n",
       "2 2017-01-11 01:36:00  http://www.anotherstore.com/checkout        123abc   \n",
       "\n",
       "   is_foo  is_atleast_one_foo  \n",
       "0       0                   3  \n",
       "1       1                   3  \n",
       "2       2                   3  "
      ]
     },
     "execution_count": 5,
     "metadata": {},
     "output_type": "execute_result"
    }
   ],
   "source": [
    "window_3 = Window\\\n",
    "    .partitionBy('session_token')\\\n",
    "    .orderBy(F.col('viewed_at'))\\\n",
    "    .rowsBetween(Window.unboundedPreceding, Window.unboundedFollowing)\n",
    "\n",
    "df_3 = df.withColumn('is_atleast_one_foo', (F.sum(F.col(\"is_foo\")).over(window_3)))\n",
    "\n",
    "df_3.toPandas()"
   ]
  },
  {
   "cell_type": "markdown",
   "metadata": {},
   "source": [
    "## Why is This?"
   ]
  },
  {
   "cell_type": "code",
   "execution_count": 6,
   "metadata": {},
   "outputs": [
    {
     "name": "stdout",
     "output_type": "stream",
     "text": [
      "== Physical Plan ==\n",
      "Window [sum(is_foo#3L) windowspecdefinition(session_token#2, ROWS BETWEEN UNBOUNDED PRECEDING AND UNBOUNDED FOLLOWING) AS is_atleast_one_foo#10L], [session_token#2]\n",
      "+- *Sort [session_token#2 ASC NULLS FIRST], false, 0\n",
      "   +- Exchange hashpartitioning(session_token#2, 200)\n",
      "      +- Scan ExistingRDD[viewed_at#0,url#1,session_token#2,is_foo#3L]\n"
     ]
    }
   ],
   "source": [
    "df_1.explain()"
   ]
  },
  {
   "cell_type": "code",
   "execution_count": 7,
   "metadata": {},
   "outputs": [
    {
     "name": "stdout",
     "output_type": "stream",
     "text": [
      "== Physical Plan ==\n",
      "Window [sum(is_foo#3L) windowspecdefinition(session_token#2, viewed_at#0 ASC NULLS FIRST, RANGE BETWEEN UNBOUNDED PRECEDING AND CURRENT ROW) AS is_atleast_one_foo#18L], [session_token#2], [viewed_at#0 ASC NULLS FIRST]\n",
      "+- *Sort [session_token#2 ASC NULLS FIRST, viewed_at#0 ASC NULLS FIRST], false, 0\n",
      "   +- Exchange hashpartitioning(session_token#2, 200)\n",
      "      +- Scan ExistingRDD[viewed_at#0,url#1,session_token#2,is_foo#3L]\n"
     ]
    }
   ],
   "source": [
    "df_2.explain()"
   ]
  },
  {
   "cell_type": "code",
   "execution_count": 8,
   "metadata": {},
   "outputs": [
    {
     "name": "stdout",
     "output_type": "stream",
     "text": [
      "== Physical Plan ==\n",
      "Window [sum(is_foo#3L) windowspecdefinition(session_token#2, viewed_at#0 ASC NULLS FIRST, ROWS BETWEEN UNBOUNDED PRECEDING AND UNBOUNDED FOLLOWING) AS is_atleast_one_foo#26L], [session_token#2], [viewed_at#0 ASC NULLS FIRST]\n",
      "+- *Sort [session_token#2 ASC NULLS FIRST, viewed_at#0 ASC NULLS FIRST], false, 0\n",
      "   +- Exchange hashpartitioning(session_token#2, 200)\n",
      "      +- Scan ExistingRDD[viewed_at#0,url#1,session_token#2,is_foo#3L]\n"
     ]
    }
   ],
   "source": [
    "df_3.explain()"
   ]
  },
  {
   "cell_type": "markdown",
   "metadata": {},
   "source": [
    "### TL;DR\n",
    "\n",
    "By looking at the **Physical Plan**, the default behaviour for `Window.partitionBy('col_1').orderBy('col_2')` without a `.rowsBetween()` is to do `.rowsBetween(Window.unboundedPreceding, Window.currentRow)`.\n",
    "\n",
    "Looking at the scala code we can see that this is indeed the default and intended behavior, https://github.com/apache/spark/blob/master/sql/core/src/main/scala/org/apache/spark/sql/expressions/Window.scala#L36-L38.\n",
    "\n",
    "```scala\n",
    " * @note When ordering is not defined, an unbounded window frame (rowFrame, unboundedPreceding,\n",
    " *       unboundedFollowing) is used by default. When ordering is defined, a growing window frame\n",
    " *       (rangeFrame, unboundedPreceding, currentRow) is used by default.\n",
    "```\n",
    "\n",
    "**Problem:**\n",
    "This will cause problems if you're care about all the rows in the partitions.\n"
   ]
  }
 ],
 "metadata": {
  "kernelspec": {
   "display_name": "Python 2",
   "language": "python",
   "name": "python2"
  },
  "language_info": {
   "codemirror_mode": {
    "name": "ipython",
    "version": 2
   },
   "file_extension": ".py",
   "mimetype": "text/x-python",
   "name": "python",
   "nbconvert_exporter": "python",
   "pygments_lexer": "ipython2",
   "version": "2.7.15"
  }
 },
 "nbformat": 4,
 "nbformat_minor": 2
}
