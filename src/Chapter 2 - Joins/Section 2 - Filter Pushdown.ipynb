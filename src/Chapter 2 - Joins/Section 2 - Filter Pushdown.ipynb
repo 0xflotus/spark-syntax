{
 "cells": [
  {
   "cell_type": "markdown",
   "metadata": {},
   "source": [
    "# Section 2: Filter Pushdown\n",
    "\n",
    "> `Filter pushdown` improves performance by reducing the amount of data shuffled during any dataframes transformations."
   ]
  },
  {
   "cell_type": "markdown",
   "metadata": {},
   "source": [
    "### Library Imports"
   ]
  },
  {
   "cell_type": "code",
   "execution_count": 1,
   "metadata": {},
   "outputs": [],
   "source": [
    "from pyspark.sql import SparkSession\n",
    "from pyspark.sql import functions as F"
   ]
  },
  {
   "cell_type": "markdown",
   "metadata": {},
   "source": [
    "Create a `SparkSession`. No need to create `SparkContext` as you automatically get it as part of the `SparkSession`."
   ]
  },
  {
   "cell_type": "code",
   "execution_count": 2,
   "metadata": {},
   "outputs": [],
   "source": [
    "spark = SparkSession.builder \\\n",
    "    .master(\"local\") \\\n",
    "    .appName(\"Exploring Joins\") \\\n",
    "    .config(\"spark.some.config.option\", \"some-value\") \\\n",
    "    .getOrCreate()\n",
    "\n",
    "sc = spark.sparkContext"
   ]
  },
  {
   "cell_type": "markdown",
   "metadata": {},
   "source": [
    "### Initial Datasets"
   ]
  },
  {
   "cell_type": "code",
   "execution_count": 3,
   "metadata": {},
   "outputs": [
    {
     "data": {
      "text/html": [
       "<div>\n",
       "<style scoped>\n",
       "    .dataframe tbody tr th:only-of-type {\n",
       "        vertical-align: middle;\n",
       "    }\n",
       "\n",
       "    .dataframe tbody tr th {\n",
       "        vertical-align: top;\n",
       "    }\n",
       "\n",
       "    .dataframe thead th {\n",
       "        text-align: right;\n",
       "    }\n",
       "</style>\n",
       "<table border=\"1\" class=\"dataframe\">\n",
       "  <thead>\n",
       "    <tr style=\"text-align: right;\">\n",
       "      <th></th>\n",
       "      <th>shop_id</th>\n",
       "      <th>data_id</th>\n",
       "      <th>val_1</th>\n",
       "    </tr>\n",
       "  </thead>\n",
       "  <tbody>\n",
       "    <tr>\n",
       "      <th>0</th>\n",
       "      <td>1</td>\n",
       "      <td>1</td>\n",
       "      <td>a</td>\n",
       "    </tr>\n",
       "    <tr>\n",
       "      <th>1</th>\n",
       "      <td>2</td>\n",
       "      <td>1</td>\n",
       "      <td>b</td>\n",
       "    </tr>\n",
       "    <tr>\n",
       "      <th>2</th>\n",
       "      <td>2</td>\n",
       "      <td>2</td>\n",
       "      <td>c</td>\n",
       "    </tr>\n",
       "  </tbody>\n",
       "</table>\n",
       "</div>"
      ],
      "text/plain": [
       "   shop_id  data_id val_1\n",
       "0        1        1     a\n",
       "1        2        1     b\n",
       "2        2        2     c"
      ]
     },
     "execution_count": 3,
     "metadata": {},
     "output_type": "execute_result"
    }
   ],
   "source": [
    "df_1 = spark.createDataFrame(\n",
    "    [\n",
    "        (1, 1, 'a'), \n",
    "        (2, 1, 'b'), \n",
    "        (2, 2, 'c'), \n",
    "    ], ['shop_id', 'data_id', 'val_1']\n",
    ")\n",
    "\n",
    "df_1.toPandas()"
   ]
  },
  {
   "cell_type": "code",
   "execution_count": 4,
   "metadata": {},
   "outputs": [
    {
     "data": {
      "text/html": [
       "<div>\n",
       "<style scoped>\n",
       "    .dataframe tbody tr th:only-of-type {\n",
       "        vertical-align: middle;\n",
       "    }\n",
       "\n",
       "    .dataframe tbody tr th {\n",
       "        vertical-align: top;\n",
       "    }\n",
       "\n",
       "    .dataframe thead th {\n",
       "        text-align: right;\n",
       "    }\n",
       "</style>\n",
       "<table border=\"1\" class=\"dataframe\">\n",
       "  <thead>\n",
       "    <tr style=\"text-align: right;\">\n",
       "      <th></th>\n",
       "      <th>shop_id</th>\n",
       "      <th>data_id</th>\n",
       "      <th>val_2</th>\n",
       "    </tr>\n",
       "  </thead>\n",
       "  <tbody>\n",
       "    <tr>\n",
       "      <th>0</th>\n",
       "      <td>1</td>\n",
       "      <td>1</td>\n",
       "      <td>10</td>\n",
       "    </tr>\n",
       "    <tr>\n",
       "      <th>1</th>\n",
       "      <td>2</td>\n",
       "      <td>2</td>\n",
       "      <td>20</td>\n",
       "    </tr>\n",
       "  </tbody>\n",
       "</table>\n",
       "</div>"
      ],
      "text/plain": [
       "   shop_id  data_id  val_2\n",
       "0        1        1     10\n",
       "1        2        2     20"
      ]
     },
     "execution_count": 4,
     "metadata": {},
     "output_type": "execute_result"
    }
   ],
   "source": [
    "df_2 = spark.createDataFrame(\n",
    "    [\n",
    "        (1, 1, 10), \n",
    "        (2, 2, 20), \n",
    "    ], ['shop_id', 'data_id', 'val_2']\n",
    ")\n",
    "\n",
    "df_2.toPandas()"
   ]
  },
  {
   "cell_type": "markdown",
   "metadata": {},
   "source": [
    "## Option #1: Join the data, then perform Filter"
   ]
  },
  {
   "cell_type": "code",
   "execution_count": 5,
   "metadata": {},
   "outputs": [
    {
     "data": {
      "text/html": [
       "<div>\n",
       "<style scoped>\n",
       "    .dataframe tbody tr th:only-of-type {\n",
       "        vertical-align: middle;\n",
       "    }\n",
       "\n",
       "    .dataframe tbody tr th {\n",
       "        vertical-align: top;\n",
       "    }\n",
       "\n",
       "    .dataframe thead th {\n",
       "        text-align: right;\n",
       "    }\n",
       "</style>\n",
       "<table border=\"1\" class=\"dataframe\">\n",
       "  <thead>\n",
       "    <tr style=\"text-align: right;\">\n",
       "      <th></th>\n",
       "      <th>data_id</th>\n",
       "      <th>shop_id</th>\n",
       "      <th>val_1</th>\n",
       "      <th>val_2</th>\n",
       "    </tr>\n",
       "  </thead>\n",
       "  <tbody>\n",
       "    <tr>\n",
       "      <th>0</th>\n",
       "      <td>1</td>\n",
       "      <td>1</td>\n",
       "      <td>a</td>\n",
       "      <td>10</td>\n",
       "    </tr>\n",
       "  </tbody>\n",
       "</table>\n",
       "</div>"
      ],
      "text/plain": [
       "   data_id  shop_id val_1  val_2\n",
       "0        1        1     a     10"
      ]
     },
     "execution_count": 5,
     "metadata": {},
     "output_type": "execute_result"
    }
   ],
   "source": [
    "df = df_1 \\\n",
    "    .join(df_2.drop('shop_id'), 'data_id') \\\n",
    "    .filter(F.col('shop_id') == 1)\n",
    "\n",
    "df.toPandas()"
   ]
  },
  {
   "cell_type": "code",
   "execution_count": 6,
   "metadata": {},
   "outputs": [
    {
     "name": "stdout",
     "output_type": "stream",
     "text": [
      "== Physical Plan ==\n",
      "*(5) Project [data_id#1L, shop_id#0L, val_1#2, val_2#8L]\n",
      "+- *(5) SortMergeJoin [data_id#1L], [data_id#7L], Inner\n",
      "   :- *(2) Sort [data_id#1L ASC NULLS FIRST], false, 0\n",
      "   :  +- Exchange hashpartitioning(data_id#1L, 200)\n",
      "   :     +- *(1) Filter ((isnotnull(shop_id#0L) && (shop_id#0L = 1)) && isnotnull(data_id#1L))\n",
      "   :        +- Scan ExistingRDD[shop_id#0L,data_id#1L,val_1#2]\n",
      "   +- *(4) Sort [data_id#7L ASC NULLS FIRST], false, 0\n",
      "      +- Exchange hashpartitioning(data_id#7L, 200)\n",
      "         +- *(3) Project [data_id#7L, val_2#8L]\n",
      "            +- *(3) Filter isnotnull(data_id#7L)\n",
      "               +- Scan ExistingRDD[shop_id#6L,data_id#7L,val_2#8L]\n"
     ]
    }
   ],
   "source": [
    "df.explain()"
   ]
  },
  {
   "cell_type": "markdown",
   "metadata": {},
   "source": [
    "**What Happened:**\n",
    "\n",
    "* We can see that the filter is only done on one side of the join. \n",
    "* This means all of the data is brough to the join.\n",
    "\n",
    "**Results:**\n",
    "\n",
    "We bring more data to the `join` and `shuffle`, **this is bad**."
   ]
  },
  {
   "cell_type": "markdown",
   "metadata": {},
   "source": [
    "## Option #2: Join on Filter Key, then Filter"
   ]
  },
  {
   "cell_type": "code",
   "execution_count": 7,
   "metadata": {},
   "outputs": [
    {
     "data": {
      "text/html": [
       "<div>\n",
       "<style scoped>\n",
       "    .dataframe tbody tr th:only-of-type {\n",
       "        vertical-align: middle;\n",
       "    }\n",
       "\n",
       "    .dataframe tbody tr th {\n",
       "        vertical-align: top;\n",
       "    }\n",
       "\n",
       "    .dataframe thead th {\n",
       "        text-align: right;\n",
       "    }\n",
       "</style>\n",
       "<table border=\"1\" class=\"dataframe\">\n",
       "  <thead>\n",
       "    <tr style=\"text-align: right;\">\n",
       "      <th></th>\n",
       "      <th>shop_id</th>\n",
       "      <th>data_id</th>\n",
       "      <th>val_1</th>\n",
       "      <th>val_2</th>\n",
       "    </tr>\n",
       "  </thead>\n",
       "  <tbody>\n",
       "    <tr>\n",
       "      <th>0</th>\n",
       "      <td>1</td>\n",
       "      <td>1</td>\n",
       "      <td>a</td>\n",
       "      <td>10</td>\n",
       "    </tr>\n",
       "  </tbody>\n",
       "</table>\n",
       "</div>"
      ],
      "text/plain": [
       "   shop_id  data_id val_1  val_2\n",
       "0        1        1     a     10"
      ]
     },
     "execution_count": 7,
     "metadata": {},
     "output_type": "execute_result"
    }
   ],
   "source": [
    "df = df_1 \\\n",
    "    .join(df_2, ['shop_id', 'data_id']) \\\n",
    "    .filter(F.col('shop_id') == 1)\n",
    "\n",
    "df.toPandas()"
   ]
  },
  {
   "cell_type": "code",
   "execution_count": 8,
   "metadata": {},
   "outputs": [
    {
     "name": "stdout",
     "output_type": "stream",
     "text": [
      "== Physical Plan ==\n",
      "*(5) Project [shop_id#0L, data_id#1L, val_1#2, val_2#8L]\n",
      "+- *(5) SortMergeJoin [shop_id#0L, data_id#1L], [shop_id#6L, data_id#7L], Inner\n",
      "   :- *(2) Sort [shop_id#0L ASC NULLS FIRST, data_id#1L ASC NULLS FIRST], false, 0\n",
      "   :  +- Exchange hashpartitioning(shop_id#0L, data_id#1L, 200)\n",
      "   :     +- *(1) Filter ((isnotnull(shop_id#0L) && (shop_id#0L = 1)) && isnotnull(data_id#1L))\n",
      "   :        +- Scan ExistingRDD[shop_id#0L,data_id#1L,val_1#2]\n",
      "   +- *(4) Sort [shop_id#6L ASC NULLS FIRST, data_id#7L ASC NULLS FIRST], false, 0\n",
      "      +- Exchange hashpartitioning(shop_id#6L, data_id#7L, 200)\n",
      "         +- *(3) Filter ((isnotnull(shop_id#6L) && isnotnull(data_id#7L)) && (shop_id#6L = 1))\n",
      "            +- Scan ExistingRDD[shop_id#6L,data_id#7L,val_2#8L]\n"
     ]
    }
   ],
   "source": [
    "df.explain()"
   ]
  },
  {
   "cell_type": "markdown",
   "metadata": {},
   "source": [
    "**What Happened:**\n",
    "* A `filter` was performed on both datasets before the join.\n",
    "* Less data is brought to the join and shuffle.\n",
    "* We `shuffle`d on 2 keys (`shop_id, data_id`).\n",
    "\n",
    "**Results:**\n",
    "* We bring less data to the `join` and `shuffle`, **this is good**.\n",
    "* We `shuffle`d on more keys."
   ]
  },
  {
   "cell_type": "markdown",
   "metadata": {},
   "source": [
    "## Option #3: Filter Left, then Join"
   ]
  },
  {
   "cell_type": "code",
   "execution_count": 9,
   "metadata": {},
   "outputs": [
    {
     "data": {
      "text/html": [
       "<div>\n",
       "<style scoped>\n",
       "    .dataframe tbody tr th:only-of-type {\n",
       "        vertical-align: middle;\n",
       "    }\n",
       "\n",
       "    .dataframe tbody tr th {\n",
       "        vertical-align: top;\n",
       "    }\n",
       "\n",
       "    .dataframe thead th {\n",
       "        text-align: right;\n",
       "    }\n",
       "</style>\n",
       "<table border=\"1\" class=\"dataframe\">\n",
       "  <thead>\n",
       "    <tr style=\"text-align: right;\">\n",
       "      <th></th>\n",
       "      <th>data_id</th>\n",
       "      <th>shop_id</th>\n",
       "      <th>val_1</th>\n",
       "      <th>val_2</th>\n",
       "    </tr>\n",
       "  </thead>\n",
       "  <tbody>\n",
       "    <tr>\n",
       "      <th>0</th>\n",
       "      <td>1</td>\n",
       "      <td>1</td>\n",
       "      <td>a</td>\n",
       "      <td>10</td>\n",
       "    </tr>\n",
       "  </tbody>\n",
       "</table>\n",
       "</div>"
      ],
      "text/plain": [
       "   data_id  shop_id val_1  val_2\n",
       "0        1        1     a     10"
      ]
     },
     "execution_count": 9,
     "metadata": {},
     "output_type": "execute_result"
    }
   ],
   "source": [
    "df = df_1 \\\n",
    "    .filter(F.col('shop_id') == 1) \\\n",
    "    .join(df_2.drop('shop_id'), 'data_id')\n",
    "\n",
    "df.toPandas()"
   ]
  },
  {
   "cell_type": "code",
   "execution_count": 10,
   "metadata": {},
   "outputs": [
    {
     "name": "stdout",
     "output_type": "stream",
     "text": [
      "== Physical Plan ==\n",
      "*(5) Project [data_id#1L, shop_id#0L, val_1#2, val_2#8L]\n",
      "+- *(5) SortMergeJoin [data_id#1L], [data_id#7L], Inner\n",
      "   :- *(2) Sort [data_id#1L ASC NULLS FIRST], false, 0\n",
      "   :  +- Exchange hashpartitioning(data_id#1L, 200)\n",
      "   :     +- *(1) Filter ((isnotnull(shop_id#0L) && (shop_id#0L = 1)) && isnotnull(data_id#1L))\n",
      "   :        +- Scan ExistingRDD[shop_id#0L,data_id#1L,val_1#2]\n",
      "   +- *(4) Sort [data_id#7L ASC NULLS FIRST], false, 0\n",
      "      +- Exchange hashpartitioning(data_id#7L, 200)\n",
      "         +- *(3) Project [data_id#7L, val_2#8L]\n",
      "            +- *(3) Filter isnotnull(data_id#7L)\n",
      "               +- Scan ExistingRDD[shop_id#6L,data_id#7L,val_2#8L]\n"
     ]
    }
   ],
   "source": [
    "df.explain()"
   ]
  },
  {
   "cell_type": "markdown",
   "metadata": {},
   "source": [
    "**What Happened:**\n",
    "* This is exactly the same as case 1."
   ]
  },
  {
   "cell_type": "markdown",
   "metadata": {},
   "source": [
    "## Option #4: Filter Both, then Join"
   ]
  },
  {
   "cell_type": "code",
   "execution_count": 11,
   "metadata": {},
   "outputs": [
    {
     "data": {
      "text/html": [
       "<div>\n",
       "<style scoped>\n",
       "    .dataframe tbody tr th:only-of-type {\n",
       "        vertical-align: middle;\n",
       "    }\n",
       "\n",
       "    .dataframe tbody tr th {\n",
       "        vertical-align: top;\n",
       "    }\n",
       "\n",
       "    .dataframe thead th {\n",
       "        text-align: right;\n",
       "    }\n",
       "</style>\n",
       "<table border=\"1\" class=\"dataframe\">\n",
       "  <thead>\n",
       "    <tr style=\"text-align: right;\">\n",
       "      <th></th>\n",
       "      <th>data_id</th>\n",
       "      <th>shop_id</th>\n",
       "      <th>val_1</th>\n",
       "      <th>val_2</th>\n",
       "    </tr>\n",
       "  </thead>\n",
       "  <tbody>\n",
       "    <tr>\n",
       "      <th>0</th>\n",
       "      <td>1</td>\n",
       "      <td>1</td>\n",
       "      <td>a</td>\n",
       "      <td>10</td>\n",
       "    </tr>\n",
       "  </tbody>\n",
       "</table>\n",
       "</div>"
      ],
      "text/plain": [
       "   data_id  shop_id val_1  val_2\n",
       "0        1        1     a     10"
      ]
     },
     "execution_count": 11,
     "metadata": {},
     "output_type": "execute_result"
    }
   ],
   "source": [
    "df_3 = df_2 \\\n",
    "    .filter(F.col('shop_id') == 1) \\\n",
    "    .drop('shop_id')\n",
    "\n",
    "df = df_1 \\\n",
    "    .filter(F.col('shop_id') == 1) \\\n",
    "    .join(df_3, 'data_id')\n",
    "\n",
    "df.toPandas()"
   ]
  },
  {
   "cell_type": "code",
   "execution_count": 12,
   "metadata": {},
   "outputs": [
    {
     "name": "stdout",
     "output_type": "stream",
     "text": [
      "== Physical Plan ==\n",
      "*(5) Project [data_id#1L, shop_id#0L, val_1#2, val_2#8L]\n",
      "+- *(5) SortMergeJoin [data_id#1L], [data_id#7L], Inner\n",
      "   :- *(2) Sort [data_id#1L ASC NULLS FIRST], false, 0\n",
      "   :  +- Exchange hashpartitioning(data_id#1L, 200)\n",
      "   :     +- *(1) Filter ((isnotnull(shop_id#0L) && (shop_id#0L = 1)) && isnotnull(data_id#1L))\n",
      "   :        +- Scan ExistingRDD[shop_id#0L,data_id#1L,val_1#2]\n",
      "   +- *(4) Sort [data_id#7L ASC NULLS FIRST], false, 0\n",
      "      +- Exchange hashpartitioning(data_id#7L, 200)\n",
      "         +- *(3) Project [data_id#7L, val_2#8L]\n",
      "            +- *(3) Filter ((isnotnull(shop_id#6L) && (shop_id#6L = 1)) && isnotnull(data_id#7L))\n",
      "               +- Scan ExistingRDD[shop_id#6L,data_id#7L,val_2#8L]\n"
     ]
    }
   ],
   "source": [
    "df.explain()"
   ]
  },
  {
   "cell_type": "markdown",
   "metadata": {},
   "source": [
    "**What Happened:**\n",
    "* We performed a `filter` on both datasets before the join.\n",
    "* We shuffled on only one key (`data_id`).\n",
    "\n",
    "**Results:**\n",
    "* We bring less data to the `join` and `shuffle`, **this is good**.\n",
    "* We only `shuffle`d on 1 key, **this is good**."
   ]
  },
  {
   "cell_type": "markdown",
   "metadata": {},
   "source": [
    "## TL;DR\n",
    "\n",
    "**Option #2** (Good)\n",
    "* When we `join` on the `filter` key (`shop_id`) as well, this caused a `filter` on both datasets prior to the join, this is called a `filter-pushdown`.\n",
    "* By joining on both both keys, this made us `sort` on 2 keys.\n",
    "\n",
    "**Option #4** (Better)\n",
    "* When we pre `filter` both datasets, this caused a `filter-pushdown`.\n",
    "* We only `join` and `sort` on one key as well, which is good as well.\n",
    "\n",
    "## All to Say\n",
    "\n",
    "* We should always try to push the `filter` down as much as possible.\n",
    "* This means that there will be less data being `shuffled` and brought to the `join`.\n",
    "* This can be achieved with join in case #2 or #4.\n",
    "\n",
    "**Note:** This might only works if the `filter key` is on both sides, might not work in all situations."
   ]
  }
 ],
 "metadata": {
  "kernelspec": {
   "display_name": "Python 2",
   "language": "python",
   "name": "python2"
  },
  "language_info": {
   "codemirror_mode": {
    "name": "ipython",
    "version": 2
   },
   "file_extension": ".py",
   "mimetype": "text/x-python",
   "name": "python",
   "nbconvert_exporter": "python",
   "pygments_lexer": "ipython2",
   "version": "2.7.15"
  }
 },
 "nbformat": 4,
 "nbformat_minor": 2
}
